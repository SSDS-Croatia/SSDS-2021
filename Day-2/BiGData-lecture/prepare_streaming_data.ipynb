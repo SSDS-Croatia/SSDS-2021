{
 "cells": [
  {
   "cell_type": "code",
   "execution_count": null,
   "id": "01a67598-ef25-4bf8-839e-599120272ed5",
   "metadata": {},
   "outputs": [],
   "source": [
    "from pyspark.sql import SparkSession\n",
    "\n",
    "session = SparkSession.builder.getOrCreate()\n",
    "context = session.sparkContext\n",
    "df = session.read.csv('trip_data_small.csv', header=True, inferSchema=True)\n",
    "pdf = df.toPandas()\n",
    "pdf[['pickup_date','pickup_time']] = pdf.pickup_datetime.str.split(\" \",expand=True,)\n",
    "pdf[['dropoff_date','dropoff_time']] = pdf.dropoff_datetime.str.split(\" \",expand=True,)\n",
    "print(pdf.head(5))\n",
    "df = session.createDataFrame(pdf)\n",
    "print(df.head(5))\n",
    "df = df.orderBy(['dropoff_date', 'dropoff_time'], ascending=[1, 1])\n",
    "df = df.drop('pickup_datetime', 'pickup_date', 'pickup_time', 'dropoff_datetime' , 'dropoff_date', 'dropoff_time')\n",
    "df.write.csv('trip_data_small_dir')"
   ]
  },
  {
   "cell_type": "code",
   "execution_count": null,
   "id": "a0c1dd68-a113-412d-a2c0-8e58fde6a86c",
   "metadata": {},
   "outputs": [],
   "source": []
  }
 ],
 "metadata": {
  "kernelspec": {
   "display_name": "Python 3 (ipykernel)",
   "language": "python",
   "name": "python3"
  },
  "language_info": {
   "codemirror_mode": {
    "name": "ipython",
    "version": 3
   },
   "file_extension": ".py",
   "mimetype": "text/x-python",
   "name": "python",
   "nbconvert_exporter": "python",
   "pygments_lexer": "ipython3",
   "version": "3.9.6"
  }
 },
 "nbformat": 4,
 "nbformat_minor": 5
}
