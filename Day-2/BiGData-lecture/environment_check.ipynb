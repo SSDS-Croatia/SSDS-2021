{
 "cells": [
  {
   "cell_type": "code",
   "execution_count": null,
   "id": "b5ea8c71-0400-4d47-9449-4b8bb99e8897",
   "metadata": {},
   "outputs": [],
   "source": [
    "from pyspark.sql import SparkSession\n",
    "session = SparkSession.builder.getOrCreate()\n",
    "context = session.sparkContext\n",
    "\n",
    "file = \"/home/jovyan/.jupyter/jupyter_notebook_config.py\"\n",
    "data = context.textFile(file).cache()\n",
    "numAs = data.filter(lambda s: 'a' in s).count()\n",
    "numBs = data.filter(lambda s: 'b' in s).count()\n",
    "print(\"Lines with a: %i, lines with b: %i\" % (numAs, numBs))"
   ]
  }
 ],
 "metadata": {
  "kernelspec": {
   "display_name": "Python 3 (ipykernel)",
   "language": "python",
   "name": "python3"
  },
  "language_info": {
   "codemirror_mode": {
    "name": "ipython",
    "version": 3
   },
   "file_extension": ".py",
   "mimetype": "text/x-python",
   "name": "python",
   "nbconvert_exporter": "python",
   "pygments_lexer": "ipython3",
   "version": "3.9.6"
  }
 },
 "nbformat": 4,
 "nbformat_minor": 5
}
