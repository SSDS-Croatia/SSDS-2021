{
 "cells": [
  {
   "cell_type": "code",
   "execution_count": null,
   "id": "ae24c30c-80ec-4e82-ae39-cd09d2608117",
   "metadata": {},
   "outputs": [],
   "source": [
    "import pandas as pd\n",
    "\n",
    "df = pd.read_csv(\"trip_data_small.csv\", header=\"infer\") \n",
    "print(df.head(5))"
   ]
  },
  {
   "cell_type": "code",
   "execution_count": null,
   "id": "9e759e71-718c-40e6-90ce-2793388b597d",
   "metadata": {},
   "outputs": [],
   "source": [
    "df.dtypes"
   ]
  },
  {
   "cell_type": "code",
   "execution_count": null,
   "id": "ddba4686-4ba7-4657-a619-fa97f654be73",
   "metadata": {},
   "outputs": [],
   "source": [
    "df_sel = df[[\"medallion\", \"passenger_count\", \"trip_distance\", \"trip_time_in_secs\"]]\n",
    "print(df_sel.head(5))"
   ]
  },
  {
   "cell_type": "code",
   "execution_count": null,
   "id": "99fa4461-b8bb-406e-bd34-a094da32530b",
   "metadata": {},
   "outputs": [],
   "source": [
    "df_flt = df_sel.query('passenger_count>0')"
   ]
  },
  {
   "cell_type": "code",
   "execution_count": null,
   "id": "a281dbe6-f69c-4d1f-9311-b998250c2c5c",
   "metadata": {},
   "outputs": [],
   "source": [
    "df_flt[[\"trip_distance\", \"trip_time_in_secs\"]].corr(method='pearson')"
   ]
  },
  {
   "cell_type": "code",
   "execution_count": null,
   "id": "27bd1758-e0c6-4ad1-81d0-b0d7188ffe37",
   "metadata": {},
   "outputs": [],
   "source": [
    "df_flt[[\"trip_time_in_secs\", \"passenger_count\"]].corr(method='pearson')"
   ]
  },
  {
   "cell_type": "code",
   "execution_count": null,
   "id": "4632a43d-9794-454c-bace-427d9d41e8cc",
   "metadata": {},
   "outputs": [],
   "source": [
    "import matplotlib.pyplot as plt\n",
    "plt.scatter(x='trip_distance', y='trip_time_in_secs', data=df_flt)\n",
    "plt.show()"
   ]
  },
  {
   "cell_type": "code",
   "execution_count": null,
   "id": "914866be-9f6b-45b2-a4a1-9841eb435cda",
   "metadata": {},
   "outputs": [],
   "source": [
    "df_flt.describe()"
   ]
  },
  {
   "cell_type": "code",
   "execution_count": null,
   "id": "e92f0cbb-d84a-4f08-8182-1ffa8d1c19a7",
   "metadata": {},
   "outputs": [],
   "source": [
    "df_sum = df_flt.groupby(\"medallion\").sum()\n",
    "print(df_sum.head(5))"
   ]
  },
  {
   "cell_type": "code",
   "execution_count": null,
   "id": "fbe8dee8-8da2-4c15-b04b-19bda95cb51c",
   "metadata": {},
   "outputs": [],
   "source": [
    "df_spd =  df_sum\n",
    "df_spd[\"average_speeed\"] = df_sum[\"trip_distance\"] / df_sum[\"trip_time_in_secs\"]\n",
    "print(df_spd.head(5))"
   ]
  },
  {
   "cell_type": "code",
   "execution_count": null,
   "id": "589e97b6-c9ff-4d32-9285-d9c5eab798dd",
   "metadata": {},
   "outputs": [],
   "source": [
    "df_sort = df_spd.sort_values(\"average_speeed\", ascending=False)\n",
    "print(df_sort.head(5))"
   ]
  },
  {
   "cell_type": "code",
   "execution_count": null,
   "id": "070f5ce5-9aaf-4966-a66c-308695faccff",
   "metadata": {},
   "outputs": [],
   "source": [
    "df_sort.to_csv(\"sorted_by_avg_speed.csv\")"
   ]
  }
 ],
 "metadata": {
  "kernelspec": {
   "display_name": "Python 3 (ipykernel)",
   "language": "python",
   "name": "python3"
  },
  "language_info": {
   "codemirror_mode": {
    "name": "ipython",
    "version": 3
   },
   "file_extension": ".py",
   "mimetype": "text/x-python",
   "name": "python",
   "nbconvert_exporter": "python",
   "pygments_lexer": "ipython3",
   "version": "3.9.6"
  }
 },
 "nbformat": 4,
 "nbformat_minor": 5
}
