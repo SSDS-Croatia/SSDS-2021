{
 "cells": [
  {
   "cell_type": "code",
   "execution_count": null,
   "id": "80e1a69b-5c91-494c-9c94-d89c753df182",
   "metadata": {},
   "outputs": [],
   "source": [
    "import time\n",
    "from pyspark.sql import SparkSession\n",
    "\n",
    "start_time = time.time()\n",
    "session = SparkSession.builder.master(\"local\").getOrCreate()\n",
    "context = ss.sparkContext\n",
    "rdd_lines = sc.textFile(\"1661-0.txt\")\n",
    "rdd_lines.take(100)"
   ]
  },
  {
   "cell_type": "code",
   "execution_count": null,
   "id": "90a1a593-6dab-4f24-8131-43d5eabfa8f7",
   "metadata": {},
   "outputs": [],
   "source": [
    "rdd_words = rdd_lines.flatMap(lambda line: line.strip().split())\n",
    "rdd_words.take(20)"
   ]
  },
  {
   "cell_type": "code",
   "execution_count": null,
   "id": "f3ab2675-c44c-4498-83a1-7b4c115cd082",
   "metadata": {},
   "outputs": [],
   "source": [
    "import re\n",
    "rdd_cleaned_words = rdd_words.map(lambda word: re.sub(\"[^a-zA-Z]+\", \"\", word).lower().strip())\n",
    "rdd_cleaned_words.take(20)"
   ]
  },
  {
   "cell_type": "code",
   "execution_count": null,
   "id": "8ae2ec96-bf51-4d82-af46-9c5ec6110361",
   "metadata": {},
   "outputs": [],
   "source": [
    "rdd_counts = rdd_cleaned_words.filter(lambda word: len(word) > 0) \\\n",
    "    .map(lambda word: (word, 1)) \\\n",
    "    .reduceByKey(lambda a, b: a + b)\n",
    "\n",
    "rdd_counts.take(20)"
   ]
  },
  {
   "cell_type": "code",
   "execution_count": null,
   "id": "392756ce-0186-47ab-8ea7-ec9627c9fa35",
   "metadata": {},
   "outputs": [],
   "source": [
    "rdd_counts.saveAsTextFile(\"word_counts.txt\")"
   ]
  },
  {
   "cell_type": "code",
   "execution_count": null,
   "id": "919268d4-952d-4e7e-a293-f337f7af03b1",
   "metadata": {},
   "outputs": [],
   "source": [
    "end_time = time.time()\n",
    "print(\"Time elapsed in seconds: \", end_time - start_time)"
   ]
  },
  {
   "cell_type": "code",
   "execution_count": null,
   "id": "5637b8e5-04b5-433d-807c-f3f2ab67497f",
   "metadata": {},
   "outputs": [],
   "source": [
    "session.stop()"
   ]
  },
  {
   "cell_type": "code",
   "execution_count": null,
   "id": "7f844a6c-f685-404e-9f4c-97ad773a4230",
   "metadata": {},
   "outputs": [],
   "source": []
  }
 ],
 "metadata": {
  "kernelspec": {
   "display_name": "Python 3 (ipykernel)",
   "language": "python",
   "name": "python3"
  },
  "language_info": {
   "codemirror_mode": {
    "name": "ipython",
    "version": 3
   },
   "file_extension": ".py",
   "mimetype": "text/x-python",
   "name": "python",
   "nbconvert_exporter": "python",
   "pygments_lexer": "ipython3",
   "version": "3.9.6"
  }
 },
 "nbformat": 4,
 "nbformat_minor": 5
}
