{
 "cells": [
  {
   "cell_type": "code",
   "execution_count": 1,
   "id": "70868acf-5fba-4e7f-829b-1cce8cf7e2bd",
   "metadata": {},
   "outputs": [
    {
     "name": "stderr",
     "output_type": "stream",
     "text": [
      "WARNING: An illegal reflective access operation has occurred\n",
      "WARNING: Illegal reflective access by org.apache.spark.unsafe.Platform (file:/usr/local/spark-3.1.2-bin-hadoop3.2/jars/spark-unsafe_2.12-3.1.2.jar) to constructor java.nio.DirectByteBuffer(long,int)\n",
      "WARNING: Please consider reporting this to the maintainers of org.apache.spark.unsafe.Platform\n",
      "WARNING: Use --illegal-access=warn to enable warnings of further illegal reflective access operations\n",
      "WARNING: All illegal access operations will be denied in a future release\n",
      "21/09/22 13:52:31 WARN NativeCodeLoader: Unable to load native-hadoop library for your platform... using builtin-java classes where applicable\n",
      "Using Spark's default log4j profile: org/apache/spark/log4j-defaults.properties\n",
      "Setting default log level to \"WARN\".\n",
      "To adjust logging level use sc.setLogLevel(newLevel). For SparkR, use setLogLevel(newLevel).\n",
      "21/09/22 13:52:32 WARN Utils: Service 'SparkUI' could not bind on port 4040. Attempting port 4041.\n"
     ]
    }
   ],
   "source": [
    "from pyspark.context import SparkContext\n",
    "from pyspark.context import SparkConf\n",
    "\n",
    "context = SparkContext.getOrCreate(SparkConf().setMaster(\"local\"))\n",
    "rdd_lines = context.textFile(\"/home/jovyan/Thunderbird-100k.csv\")"
   ]
  },
  {
   "cell_type": "code",
   "execution_count": 2,
   "id": "c0b21e3e-7128-407c-886e-34a1bc941a20",
   "metadata": {},
   "outputs": [
    {
     "name": "stderr",
     "output_type": "stream",
     "text": [
      "                                                                                \r"
     ]
    },
    {
     "data": {
      "text/plain": [
       "[(2, True)]"
      ]
     },
     "execution_count": 2,
     "metadata": {},
     "output_type": "execute_result"
    }
   ],
   "source": [
    "import datetime\n",
    "\n",
    "rdd_alerts = rdd_lines.map(lambda line: (line.strip().split()[2], True) if line.startswith(\"-\") else (line.strip().split()[2], False)) \\\n",
    "            .map(lambda line: (datetime.datetime.strptime(line[0],\"%Y.%m.%d\").weekday(), line[1]))\n",
    "\n",
    "rdd_alerts.take(1)"
   ]
  },
  {
   "cell_type": "code",
   "execution_count": 3,
   "id": "9b77f7e4-76b6-41ce-ab9a-3f21956b4bfb",
   "metadata": {},
   "outputs": [
    {
     "name": "stderr",
     "output_type": "stream",
     "text": [
      "[Stage 3:>                                                          (0 + 1) / 1]\r"
     ]
    },
    {
     "name": "stdout",
     "output_type": "stream",
     "text": [
      "Alerts:\n",
      "(1, 37)\n",
      "Non alerts:\n",
      "(2, 50000)\n",
      "(1, 49963)\n"
     ]
    },
    {
     "name": "stderr",
     "output_type": "stream",
     "text": [
      "                                                                                \r"
     ]
    }
   ],
   "source": [
    "non_alerts = rdd_alerts.filter(lambda tup: tup[1]).map(lambda tup: (tup[0], 1)).reduceByKey(lambda a, b: a + b).collect()\n",
    "alerts = rdd_alerts.filter(lambda tup: not tup[1]).map(lambda tup: (tup[0], 1)).reduceByKey(lambda a, b: a + b).collect()\n",
    "\n",
    "print(\"Alerts:\")\n",
    "for word in alerts:\n",
    "    print(word)\n",
    "print(\"Non alerts:\")\n",
    "for word in non_alerts:\n",
    "    print(word)\n"
   ]
  },
  {
   "cell_type": "code",
   "execution_count": 8,
   "id": "f0fc42b5-f0a4-40b7-8e12-e604e6104a41",
   "metadata": {},
   "outputs": [
    {
     "name": "stderr",
     "output_type": "stream",
     "text": [
      "[Stage 17:>                                                         (0 + 1) / 1]\r"
     ]
    },
    {
     "name": "stdout",
     "output_type": "stream",
     "text": [
      "2006\n",
      "('connection', 13425)\n",
      "('from', 7728)\n",
      "('closed', 6825)\n",
      "('to', 6317)\n",
      "('user', 4534)\n",
      "('on', 4275)\n",
      "('s', 3965)\n",
      "('synchronized', 3835)\n",
      "('stratum', 3831)\n",
      "('lost', 3410)\n",
      "('now', 3387)\n",
      "('local', 3346)\n",
      "('authenticated', 3253)\n",
      "('running', 3245)\n",
      "('privileges', 3224)\n",
      "('coming', 3221)\n",
      "('disconnected', 3214)\n",
      "('tbird', 3155)\n",
      "('for', 2844)\n",
      "('acpi', 2835)\n",
      "('pamkrb', 2671)\n",
      "('pciehp', 2352)\n",
      "('no', 2072)\n",
      "('pci', 1878)\n",
      "('at', 1675)\n",
      "('ibsmsweepc', 1630)\n",
      "('oshp', 1584)\n",
      "('root', 1529)\n",
      "('lustreerror', 1459)\n",
      "('succeeded', 1356)\n",
      "('failsx', 1328)\n",
      "('interrupt', 1318)\n",
      "('command', 1265)\n",
      "('configuration', 1231)\n",
      "('session', 1210)\n",
      "('device', 1198)\n",
      "('irq', 1120)\n",
      "('change', 1070)\n",
      "('eth', 1007)\n",
      "('clientcptlrpcexpireonerequest', 998)\n",
      "('error', 955)\n",
      "('via', 937)\n",
      "('timeout', 899)\n",
      "('new', 884)\n",
      "('driver', 882)\n",
      "('by', 859)\n",
      "('not', 852)\n",
      "('using', 846)\n",
      "('flag', 836)\n",
      "2005\n",
      "('from', 12931)\n",
      "('not', 11525)\n",
      "('got', 11331)\n",
      "('any', 11291)\n",
      "('datathread', 11288)\n",
      "('answer', 11288)\n",
      "('datasource', 11288)\n",
      "('an', 9433)\n",
      "('cn', 8301)\n",
      "('dn', 8288)\n",
      "('bn', 8285)\n",
      "('to', 7632)\n",
      "('synchronized', 5634)\n",
      "('stratum', 5634)\n",
      "('for', 3420)\n",
      "('thunderbirdb', 3294)\n",
      "('thunderbirda', 3262)\n",
      "('acpi', 3236)\n",
      "('ibsmsweepc', 2862)\n",
      "('port', 2776)\n",
      "('pci', 2642)\n",
      "('thunderbirdc', 2541)\n",
      "('no', 2444)\n",
      "('thunderbirdd', 2191)\n",
      "('root', 2186)\n",
      "('change', 1956)\n",
      "('succeeded', 1952)\n",
      "('interrupt', 1914)\n",
      "('configuration', 1891)\n",
      "('irq', 1524)\n",
      "('state', 1504)\n",
      "('new', 1447)\n",
      "('eth', 1361)\n",
      "('user', 1299)\n",
      "('on', 1231)\n",
      "('file', 1205)\n",
      "('by', 1194)\n",
      "('session', 1127)\n",
      "('gsi', 1120)\n",
      "('sweep', 1065)\n",
      "('a', 1035)\n",
      "('startup', 1020)\n",
      "('level', 1019)\n",
      "('device', 981)\n",
      "('low', 964)\n",
      "('line', 960)\n",
      "('d', 952)\n",
      "('driver', 948)\n",
      "('via', 905)\n"
     ]
    },
    {
     "name": "stderr",
     "output_type": "stream",
     "text": [
      "                                                                                \r"
     ]
    }
   ],
   "source": [
    "import re\n",
    "\n",
    "def to_list(a):\n",
    "    return [a]\n",
    "\n",
    "def append(a, b):\n",
    "    a.append(b)\n",
    "    return a\n",
    "\n",
    "def extend(a, b):\n",
    "    a.extend(b)\n",
    "    return a\n",
    "\n",
    "result_list = (rdd_lines \\\n",
    "    .filter(lambda line: len(line.strip().split(\":\", 3)) == 4) \\\n",
    "    # map to (year, [word1, word2, ...])\n",
    "    .map(lambda line: (datetime.datetime.strptime(line.strip().split()[2],\"%Y.%m.%d\").year, line.strip().split(\":\",3)[3].split())) \\\n",
    "    # flatmap to (year, word1) (year, word2), ...\n",
    "    .flatMap(lambda tup: [(tup[0], word) for word in tup[1]]) \\\n",
    "    .map(lambda tup: (tup[0], re.sub(\"[^a-zA-Z]+\", \"\", tup[1]).lower().strip())) \\\n",
    "    .filter(lambda tup: len(tup[1]) > 0) \\\n",
    "     # maps to ((year, word), 1)\n",
    "    .map(lambda tup: ((tup[0], tup[1]), 1)) \\\n",
    "    # counts per (year, word)\n",
    "    .reduceByKey(lambda counts1, counts2: counts1 + counts2) \\\n",
    "    # maps to ((year, counts), word)\n",
    "    .map(lambda tup: ((tup[0][0], tup[1]),tup[0][1])) \\\n",
    "    # sorts by (year, counts)\n",
    "    .sortByKey(ascending=False)\n",
    "    # maps to (year, (word, counts))\n",
    "    .map(lambda tup: (tup[0][0], (tup[1], tup[0][1]))) \\\n",
    "    # get (year, [(word1, count1), (word2, count2), ...])\n",
    "    .combineByKey(to_list, append, extend) \\\n",
    "    # limit size of words lists to 50\n",
    "    .map(lambda tup: (tup[0], (tup[1][0:49]))))\n",
    "\n",
    "for year_words in result_list.collect():\n",
    "    print(year_words[0])\n",
    "    for word_counts in year_words[1]:\n",
    "        print(word_counts)\n",
    "\n"
   ]
  },
  {
   "cell_type": "code",
   "execution_count": null,
   "id": "6102c7af-22ed-41ef-87c9-aceda8ff32a7",
   "metadata": {},
   "outputs": [],
   "source": []
  }
 ],
 "metadata": {
  "kernelspec": {
   "display_name": "Python 3 (ipykernel)",
   "language": "python",
   "name": "python3"
  },
  "language_info": {
   "codemirror_mode": {
    "name": "ipython",
    "version": 3
   },
   "file_extension": ".py",
   "mimetype": "text/x-python",
   "name": "python",
   "nbconvert_exporter": "python",
   "pygments_lexer": "ipython3",
   "version": "3.9.6"
  }
 },
 "nbformat": 4,
 "nbformat_minor": 5
}
